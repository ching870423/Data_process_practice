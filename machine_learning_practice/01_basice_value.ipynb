{
 "cells": [
  {
   "cell_type": "markdown",
   "metadata": {},
   "source": [
    "# Mean, Median, and Mode"
   ]
  },
  {
   "cell_type": "code",
   "execution_count": 2,
   "metadata": {},
   "outputs": [
    {
     "name": "stdout",
     "output_type": "stream",
     "text": [
      "mean:  89.77\n",
      "median:  87.0\n",
      "median of two numbers in the middle:  86.5\n",
      "mode:  ModeResult(mode=array([86]), count=array([3]))\n"
     ]
    }
   ],
   "source": [
    "# import library\n",
    "import numpy as np\n",
    "from scipy import stats # for mode\n",
    "\n",
    "# the speed of 13 cars\n",
    "speed = [99, 86, 87, 88, 111, 86, 103, 87, 94, 78, 77, 85, 86]\n",
    "speed_odd = [99, 86, 87, 88, 86, 103, 87, 94, 78, 77, 85, 86]\n",
    "\n",
    "# mean: the average value\n",
    "mean = np.mean(speed)\n",
    "mean = round(mean, 2)\n",
    "\n",
    "# median: the mid value after sorting all the values\n",
    "median = np.median(speed)\n",
    "median_odd = np.median(speed_odd)\n",
    "\n",
    "# mode: the number that appears the most\n",
    "mode = stats.mode(speed)\n",
    "\n",
    "print(\"mean: \", mean)\n",
    "print(\"median: \", median)\n",
    "print(\"median of two numbers in the middle: \", median_odd)\n",
    "print(\"mode: \", mode)"
   ]
  },
  {
   "cell_type": "code",
   "execution_count": 3,
   "metadata": {},
   "outputs": [
    {
     "name": "stdout",
     "output_type": "stream",
     "text": [
      "<class 'scipy.stats.stats.ModeResult'>\n"
     ]
    }
   ],
   "source": [
    "print(type(mode))"
   ]
  },
  {
   "cell_type": "markdown",
   "metadata": {},
   "source": [
    "# Standard Deviation"
   ]
  },
  {
   "cell_type": "code",
   "execution_count": 4,
   "metadata": {},
   "outputs": [
    {
     "name": "stdout",
     "output_type": "stream",
     "text": [
      "mean: 86.429\n",
      "std: 0.904\n"
     ]
    }
   ],
   "source": [
    "speed_low_std = [86, 87, 88, 86, 87, 85, 86]\n",
    "mean = np.mean(speed_low_std)\n",
    "mean = round(mean, 3)\n",
    "low_std = np.std(speed_low_std)\n",
    "low_std = round(low_std, 3)\n",
    "print(\"mean:\", mean)\n",
    "print(\"std:\", low_std)"
   ]
  },
  {
   "cell_type": "code",
   "execution_count": 5,
   "metadata": {},
   "outputs": [
    {
     "name": "stdout",
     "output_type": "stream",
     "text": [
      "mean: 74.167\n",
      "std: 39.956\n"
     ]
    }
   ],
   "source": [
    "speed_high_std = [32, 111, 138, 28, 59, 77]\n",
    "mean = np.mean(speed_high_std)\n",
    "mean = round(mean, 3)\n",
    "high_std = np.std(speed_high_std)\n",
    "high_std = round(high_std, 3)\n",
    "print(\"mean:\", mean)\n",
    "print(\"std:\", high_std)"
   ]
  },
  {
   "cell_type": "markdown",
   "metadata": {},
   "source": [
    "# Variance"
   ]
  },
  {
   "cell_type": "code",
   "execution_count": 6,
   "metadata": {},
   "outputs": [
    {
     "name": "stdout",
     "output_type": "stream",
     "text": [
      "mean: 77.429\n",
      "variance: 1432.245\n",
      "std: 37.845\n"
     ]
    }
   ],
   "source": [
    "speed_2 = [32, 111, 138, 28, 59, 77, 97]\n",
    "mean = np.mean(speed_2)\n",
    "mean = round(mean, 3)\n",
    "\n",
    "variance = np.var(speed_2)\n",
    "variance = round(variance, 3)\n",
    "\n",
    "std = np.std(speed_2)\n",
    "std = round(std, 3)\n",
    "\n",
    "print(\"mean:\", mean)\n",
    "print(\"variance:\", variance)\n",
    "print(\"std:\", std)"
   ]
  },
  {
   "cell_type": "markdown",
   "metadata": {},
   "source": [
    "# Percentile"
   ]
  },
  {
   "cell_type": "code",
   "execution_count": 12,
   "metadata": {},
   "outputs": [
    {
     "name": "stdout",
     "output_type": "stream",
     "text": [
      "What is the age that 75% of the people are younger than? 43\n",
      "What is the age that 90% of the people are younger than? 61\n"
     ]
    }
   ],
   "source": [
    "ages = [5, 31, 43, 48, 50, 41, 7, 11, 15, 39, 80, 82, 32, 2, 8, 6, 25, 36, 27, 61, 31]\n",
    "\n",
    "per_75 = np.percentile(ages, 75)\n",
    "per_90 = np.percentile(ages, 90)\n",
    "\n",
    "print(\"What is the age that 75% of the people are younger than?\", int(per_75))\n",
    "print(\"What is the age that 90% of the people are younger than?\", int(per_90))"
   ]
  }
 ],
 "metadata": {
  "kernelspec": {
   "display_name": "Python 3",
   "language": "python",
   "name": "python3"
  },
  "language_info": {
   "codemirror_mode": {
    "name": "ipython",
    "version": 3
   },
   "file_extension": ".py",
   "mimetype": "text/x-python",
   "name": "python",
   "nbconvert_exporter": "python",
   "pygments_lexer": "ipython3",
   "version": "3.7.6"
  }
 },
 "nbformat": 4,
 "nbformat_minor": 4
}
