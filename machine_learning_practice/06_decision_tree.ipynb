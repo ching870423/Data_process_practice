{
 "cells": [
  {
   "cell_type": "markdown",
   "metadata": {},
   "source": [
    "# Decision tree:\n",
    "- a flow chart\n",
    "- make a desicion based on previous experience\n",
    "- whether he/she should go to comedy show"
   ]
  },
  {
   "cell_type": "markdown",
   "metadata": {},
   "source": [
    "# Import library"
   ]
  },
  {
   "cell_type": "code",
   "execution_count": 9,
   "metadata": {},
   "outputs": [],
   "source": [
    "import pandas as pd\n",
    "from sklearn import tree\n",
    "import pydotplus\n",
    "from sklearn.tree import DecisionTreeClassifier\n",
    "import matplotlib.pyplot as plt\n",
    "import matplotlib.image as pltimg"
   ]
  },
  {
   "cell_type": "code",
   "execution_count": 10,
   "metadata": {},
   "outputs": [
    {
     "name": "stdout",
     "output_type": "stream",
     "text": [
      "<class 'pandas.core.frame.DataFrame'>\n",
      "RangeIndex: 13 entries, 0 to 12\n",
      "Data columns (total 5 columns):\n",
      " #   Column       Non-Null Count  Dtype \n",
      "---  ------       --------------  ----- \n",
      " 0   Age          13 non-null     int64 \n",
      " 1   Experience   13 non-null     int64 \n",
      " 2   Rank         13 non-null     int64 \n",
      " 3   Nationality  13 non-null     object\n",
      " 4   Go           13 non-null     object\n",
      "dtypes: int64(3), object(2)\n",
      "memory usage: 648.0+ bytes\n"
     ]
    },
    {
     "data": {
      "text/html": [
       "<div>\n",
       "<style scoped>\n",
       "    .dataframe tbody tr th:only-of-type {\n",
       "        vertical-align: middle;\n",
       "    }\n",
       "\n",
       "    .dataframe tbody tr th {\n",
       "        vertical-align: top;\n",
       "    }\n",
       "\n",
       "    .dataframe thead th {\n",
       "        text-align: right;\n",
       "    }\n",
       "</style>\n",
       "<table border=\"1\" class=\"dataframe\">\n",
       "  <thead>\n",
       "    <tr style=\"text-align: right;\">\n",
       "      <th></th>\n",
       "      <th>Age</th>\n",
       "      <th>Experience</th>\n",
       "      <th>Rank</th>\n",
       "      <th>Nationality</th>\n",
       "      <th>Go</th>\n",
       "    </tr>\n",
       "  </thead>\n",
       "  <tbody>\n",
       "    <tr>\n",
       "      <th>0</th>\n",
       "      <td>36</td>\n",
       "      <td>10</td>\n",
       "      <td>9</td>\n",
       "      <td>UK</td>\n",
       "      <td>NO</td>\n",
       "    </tr>\n",
       "    <tr>\n",
       "      <th>1</th>\n",
       "      <td>42</td>\n",
       "      <td>12</td>\n",
       "      <td>4</td>\n",
       "      <td>USA</td>\n",
       "      <td>NO</td>\n",
       "    </tr>\n",
       "    <tr>\n",
       "      <th>2</th>\n",
       "      <td>23</td>\n",
       "      <td>4</td>\n",
       "      <td>6</td>\n",
       "      <td>N</td>\n",
       "      <td>NO</td>\n",
       "    </tr>\n",
       "    <tr>\n",
       "      <th>3</th>\n",
       "      <td>52</td>\n",
       "      <td>4</td>\n",
       "      <td>4</td>\n",
       "      <td>USA</td>\n",
       "      <td>NO</td>\n",
       "    </tr>\n",
       "    <tr>\n",
       "      <th>4</th>\n",
       "      <td>43</td>\n",
       "      <td>21</td>\n",
       "      <td>8</td>\n",
       "      <td>USA</td>\n",
       "      <td>YES</td>\n",
       "    </tr>\n",
       "    <tr>\n",
       "      <th>5</th>\n",
       "      <td>44</td>\n",
       "      <td>14</td>\n",
       "      <td>5</td>\n",
       "      <td>UK</td>\n",
       "      <td>NO</td>\n",
       "    </tr>\n",
       "    <tr>\n",
       "      <th>6</th>\n",
       "      <td>66</td>\n",
       "      <td>3</td>\n",
       "      <td>7</td>\n",
       "      <td>N</td>\n",
       "      <td>YES</td>\n",
       "    </tr>\n",
       "    <tr>\n",
       "      <th>7</th>\n",
       "      <td>35</td>\n",
       "      <td>14</td>\n",
       "      <td>9</td>\n",
       "      <td>UK</td>\n",
       "      <td>YES</td>\n",
       "    </tr>\n",
       "    <tr>\n",
       "      <th>8</th>\n",
       "      <td>52</td>\n",
       "      <td>13</td>\n",
       "      <td>7</td>\n",
       "      <td>N</td>\n",
       "      <td>YES</td>\n",
       "    </tr>\n",
       "    <tr>\n",
       "      <th>9</th>\n",
       "      <td>35</td>\n",
       "      <td>5</td>\n",
       "      <td>9</td>\n",
       "      <td>N</td>\n",
       "      <td>YES</td>\n",
       "    </tr>\n",
       "  </tbody>\n",
       "</table>\n",
       "</div>"
      ],
      "text/plain": [
       "   Age  Experience  Rank Nationality   Go\n",
       "0   36          10     9          UK   NO\n",
       "1   42          12     4         USA   NO\n",
       "2   23           4     6           N   NO\n",
       "3   52           4     4         USA   NO\n",
       "4   43          21     8         USA  YES\n",
       "5   44          14     5          UK   NO\n",
       "6   66           3     7           N  YES\n",
       "7   35          14     9          UK  YES\n",
       "8   52          13     7           N  YES\n",
       "9   35           5     9           N  YES"
      ]
     },
     "execution_count": 10,
     "metadata": {},
     "output_type": "execute_result"
    }
   ],
   "source": [
    "shows_df = pd.read_csv(\"shows.csv\")\n",
    "shows_df.info()\n",
    "shows_df.head(10)"
   ]
  },
  {
   "cell_type": "code",
   "execution_count": 11,
   "metadata": {},
   "outputs": [
    {
     "data": {
      "text/html": [
       "<div>\n",
       "<style scoped>\n",
       "    .dataframe tbody tr th:only-of-type {\n",
       "        vertical-align: middle;\n",
       "    }\n",
       "\n",
       "    .dataframe tbody tr th {\n",
       "        vertical-align: top;\n",
       "    }\n",
       "\n",
       "    .dataframe thead th {\n",
       "        text-align: right;\n",
       "    }\n",
       "</style>\n",
       "<table border=\"1\" class=\"dataframe\">\n",
       "  <thead>\n",
       "    <tr style=\"text-align: right;\">\n",
       "      <th></th>\n",
       "      <th>Age</th>\n",
       "      <th>Experience</th>\n",
       "      <th>Rank</th>\n",
       "      <th>Nationality</th>\n",
       "      <th>Go</th>\n",
       "    </tr>\n",
       "  </thead>\n",
       "  <tbody>\n",
       "    <tr>\n",
       "      <th>0</th>\n",
       "      <td>36</td>\n",
       "      <td>10</td>\n",
       "      <td>9</td>\n",
       "      <td>0</td>\n",
       "      <td>0</td>\n",
       "    </tr>\n",
       "    <tr>\n",
       "      <th>1</th>\n",
       "      <td>42</td>\n",
       "      <td>12</td>\n",
       "      <td>4</td>\n",
       "      <td>1</td>\n",
       "      <td>0</td>\n",
       "    </tr>\n",
       "    <tr>\n",
       "      <th>2</th>\n",
       "      <td>23</td>\n",
       "      <td>4</td>\n",
       "      <td>6</td>\n",
       "      <td>2</td>\n",
       "      <td>0</td>\n",
       "    </tr>\n",
       "    <tr>\n",
       "      <th>3</th>\n",
       "      <td>52</td>\n",
       "      <td>4</td>\n",
       "      <td>4</td>\n",
       "      <td>1</td>\n",
       "      <td>0</td>\n",
       "    </tr>\n",
       "    <tr>\n",
       "      <th>4</th>\n",
       "      <td>43</td>\n",
       "      <td>21</td>\n",
       "      <td>8</td>\n",
       "      <td>1</td>\n",
       "      <td>1</td>\n",
       "    </tr>\n",
       "    <tr>\n",
       "      <th>5</th>\n",
       "      <td>44</td>\n",
       "      <td>14</td>\n",
       "      <td>5</td>\n",
       "      <td>0</td>\n",
       "      <td>0</td>\n",
       "    </tr>\n",
       "    <tr>\n",
       "      <th>6</th>\n",
       "      <td>66</td>\n",
       "      <td>3</td>\n",
       "      <td>7</td>\n",
       "      <td>2</td>\n",
       "      <td>1</td>\n",
       "    </tr>\n",
       "    <tr>\n",
       "      <th>7</th>\n",
       "      <td>35</td>\n",
       "      <td>14</td>\n",
       "      <td>9</td>\n",
       "      <td>0</td>\n",
       "      <td>1</td>\n",
       "    </tr>\n",
       "    <tr>\n",
       "      <th>8</th>\n",
       "      <td>52</td>\n",
       "      <td>13</td>\n",
       "      <td>7</td>\n",
       "      <td>2</td>\n",
       "      <td>1</td>\n",
       "    </tr>\n",
       "    <tr>\n",
       "      <th>9</th>\n",
       "      <td>35</td>\n",
       "      <td>5</td>\n",
       "      <td>9</td>\n",
       "      <td>2</td>\n",
       "      <td>1</td>\n",
       "    </tr>\n",
       "    <tr>\n",
       "      <th>10</th>\n",
       "      <td>24</td>\n",
       "      <td>3</td>\n",
       "      <td>5</td>\n",
       "      <td>1</td>\n",
       "      <td>0</td>\n",
       "    </tr>\n",
       "    <tr>\n",
       "      <th>11</th>\n",
       "      <td>18</td>\n",
       "      <td>3</td>\n",
       "      <td>7</td>\n",
       "      <td>0</td>\n",
       "      <td>1</td>\n",
       "    </tr>\n",
       "    <tr>\n",
       "      <th>12</th>\n",
       "      <td>45</td>\n",
       "      <td>9</td>\n",
       "      <td>9</td>\n",
       "      <td>0</td>\n",
       "      <td>1</td>\n",
       "    </tr>\n",
       "  </tbody>\n",
       "</table>\n",
       "</div>"
      ],
      "text/plain": [
       "    Age  Experience  Rank  Nationality  Go\n",
       "0    36          10     9            0   0\n",
       "1    42          12     4            1   0\n",
       "2    23           4     6            2   0\n",
       "3    52           4     4            1   0\n",
       "4    43          21     8            1   1\n",
       "5    44          14     5            0   0\n",
       "6    66           3     7            2   1\n",
       "7    35          14     9            0   1\n",
       "8    52          13     7            2   1\n",
       "9    35           5     9            2   1\n",
       "10   24           3     5            1   0\n",
       "11   18           3     7            0   1\n",
       "12   45           9     9            0   1"
      ]
     },
     "execution_count": 11,
     "metadata": {},
     "output_type": "execute_result"
    }
   ],
   "source": [
    "# convert 'Nationality\"&\"Go\" values to numerical: categorical data\n",
    "nation_dict = {'UK':0, 'USA':1, 'N':2}\n",
    "shows_df['Nationality'] = shows_df['Nationality'].map(nation_dict)\n",
    "\n",
    "go_dict = {'YES':1, 'NO':0}\n",
    "shows_df['Go'] = shows_df['Go'].map(go_dict)\n",
    "\n",
    "shows_df.head(13)"
   ]
  },
  {
   "cell_type": "markdown",
   "metadata": {},
   "source": [
    "# Seperate feature & target column\n",
    "- feature column: input, the value we refer to\n",
    "- target column: output, the value we try to predict"
   ]
  },
  {
   "cell_type": "code",
   "execution_count": 12,
   "metadata": {},
   "outputs": [
    {
     "name": "stdout",
     "output_type": "stream",
     "text": [
      "    Age  Experience  Rank  Nationality\n",
      "0    36          10     9            0\n",
      "1    42          12     4            1\n",
      "2    23           4     6            2\n",
      "3    52           4     4            1\n",
      "4    43          21     8            1\n",
      "5    44          14     5            0\n",
      "6    66           3     7            2\n",
      "7    35          14     9            0\n",
      "8    52          13     7            2\n",
      "9    35           5     9            2\n",
      "10   24           3     5            1\n",
      "11   18           3     7            0\n",
      "12   45           9     9            0\n",
      "0     0\n",
      "1     0\n",
      "2     0\n",
      "3     0\n",
      "4     1\n",
      "5     0\n",
      "6     1\n",
      "7     1\n",
      "8     1\n",
      "9     1\n",
      "10    0\n",
      "11    1\n",
      "12    1\n",
      "Name: Go, dtype: int64\n"
     ]
    }
   ],
   "source": [
    "features_set = ['Age', 'Experience', 'Rank', 'Nationality']\n",
    "\n",
    "X = shows_df[features_set]\n",
    "y = shows_df['Go']\n",
    "\n",
    "print(X)\n",
    "#print(type(X))\n",
    "print(y)\n",
    "#print(type(y))"
   ]
  },
  {
   "cell_type": "markdown",
   "metadata": {},
   "source": [
    "# Create a Decision Tree & show it as image"
   ]
  },
  {
   "cell_type": "code",
   "execution_count": 13,
   "metadata": {},
   "outputs": [
    {
     "data": {
      "image/png": "[encoded data removed]",
      "text/plain": [
       "<Figure size 432x288 with 1 Axes>"
      ]
     },
     "metadata": {
      "needs_background": "light"
     },
     "output_type": "display_data"
    }
   ],
   "source": [
    "# create a decision tree & save as an image\n",
    "d_tree = DecisionTreeClassifier()\n",
    "d_tree = d_tree.fit(X,y)\n",
    "tree_data = tree.export_graphviz(d_tree, out_file=None, feature_names=features_set)\n",
    "tree_graph = pydotplus.graph_from_dot_data(tree_data)\n",
    "tree_graph.write_png('mydecisiontree.png')\n",
    "\n",
    "# show the image\n",
    "img = pltimg.imread('mydecisiontree.png')\n",
    "implot = plt.imshow(img)\n",
    "plt.show()"
   ]
  },
  {
   "cell_type": "markdown",
   "metadata": {},
   "source": [
    "# Predict value according to the Decision Tree"
   ]
  },
  {
   "cell_type": "code",
   "execution_count": 14,
   "metadata": {},
   "outputs": [
    {
     "name": "stdout",
     "output_type": "stream",
     "text": [
      "Should I go see a show starring a 40 years old USA comedian, with 10 years of experience, and a comedy ranking of 7?\n",
      "NO.\n"
     ]
    }
   ],
   "source": [
    "# should I go see a show starring a 40 years old American comedian, with 10 years of experience, and a comedy ranking of 7?\n",
    "# feature data: Age=40, Experience=10, Rank=7, Nationality=1(USA)\n",
    "predict_val = d_tree.predict([[40, 10, 7, 1]])\n",
    "print(\"Should I go see a show starring a 40 years old USA comedian, with 10 years of experience, and a comedy ranking of 7?\")\n",
    "if predict_val == 0:\n",
    "    print(\"NO.\")\n",
    "elif predict_val == 1:\n",
    "    print(\"GO\")\n",
    "else:\n",
    "    print(\"predict_val is not 0 or 1\")"
   ]
  },
  {
   "cell_type": "code",
   "execution_count": 15,
   "metadata": {},
   "outputs": [
    {
     "name": "stdout",
     "output_type": "stream",
     "text": [
      "Should I go see a show starring a 40 years old USA comedian, with 10 years of experience, and a comedy ranking of 7?\n",
      "NO.\n"
     ]
    }
   ],
   "source": [
    "# What if the comedy rank is 6?\n",
    "# feature data: Age=40, Experience=10, Rank=6, Nationality=1(USA)\n",
    "predict_val = d_tree.predict([[40, 10, 6, 1]])\n",
    "print(\"Should I go see a show starring a 40 years old USA comedian, with 10 years of experience, and a comedy ranking of 7?\")\n",
    "if predict_val == 0:\n",
    "    print(\"NO.\")\n",
    "elif predict_val == 1:\n",
    "    print(\"GO\")\n",
    "else:\n",
    "    print(\"predict_val is not 0 or 1\")"
   ]
  }
 ],
 "metadata": {
  "kernelspec": {
   "display_name": "Python 3",
   "language": "python",
   "name": "python3"
  },
  "language_info": {
   "codemirror_mode": {
    "name": "ipython",
    "version": 3
   },
   "file_extension": ".py",
   "mimetype": "text/x-python",
   "name": "python",
   "nbconvert_exporter": "python",
   "pygments_lexer": "ipython3",
   "version": "3.7.6"
  }
 },
 "nbformat": 4,
 "nbformat_minor": 4
}
