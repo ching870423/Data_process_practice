{
 "cells": [
  {
   "cell_type": "markdown",
   "metadata": {},
   "source": [
    "# Connect the MYSQL"
   ]
  },
  {
   "cell_type": "code",
   "execution_count": 1,
   "metadata": {},
   "outputs": [
    {
     "name": "stdout",
     "output_type": "stream",
     "text": [
      "<mysql.connector.connection.MySQLConnection object at 0x0000026AE3C26388>\n"
     ]
    }
   ],
   "source": [
    "# import library\n",
    "import mysql.connector\n",
    "\n",
    "# create connection\n",
    "mydb = mysql.connector.connect(\n",
    "    host=\"localhost\",\n",
    "    user=\"root\",\n",
    "    password=\"MYSQL1201\"\n",
    ")\n",
    "\n",
    "print(mydb)"
   ]
  },
  {
   "cell_type": "code",
   "execution_count": 2,
   "metadata": {},
   "outputs": [
    {
     "name": "stdout",
     "output_type": "stream",
     "text": [
      "('classicmodels',)\n",
      "('information_schema',)\n",
      "('mydatabase',)\n",
      "('mysql',)\n",
      "('performance_schema',)\n",
      "('sakila',)\n",
      "('sys',)\n",
      "('world',)\n"
     ]
    }
   ],
   "source": [
    "# check whether \"mydatabase\" exists\n",
    "sql = \"SHOW DATABASES\"\n",
    "mycursor = mydb.cursor(buffered=True)\n",
    "mycursor.execute(sql)\n",
    "for x in mycursor:\n",
    "    print(x)"
   ]
  },
  {
   "cell_type": "code",
   "execution_count": 3,
   "metadata": {},
   "outputs": [],
   "source": [
    "# connect with \"mydatabase\"\n",
    "mydb = mysql.connector.connect(\n",
    "    host=\"localhost\",\n",
    "    user=\"root\",\n",
    "    password=\"MYSQL1201\",\n",
    "    database=\"mydatabase\"\n",
    ")"
   ]
  },
  {
   "cell_type": "markdown",
   "metadata": {},
   "source": [
    "# Create 2 tables"
   ]
  },
  {
   "cell_type": "code",
   "execution_count": 11,
   "metadata": {},
   "outputs": [],
   "source": [
    "mycursor = mydb.cursor(buffered=True)\n",
    "sql_users = \"CREATE TABLE users (id INT, name VARCHAR(255), fav INT)\"\n",
    "sql_products = \"CREATE TABLE products (id INT, name VARCHAR(255))\"\n",
    "\n",
    "mycursor.execute(sql_users)\n",
    "mycursor.execute(sql_products)"
   ]
  },
  {
   "cell_type": "code",
   "execution_count": 12,
   "metadata": {},
   "outputs": [
    {
     "name": "stdout",
     "output_type": "stream",
     "text": [
      "('customers',)\n",
      "('products',)\n",
      "('users',)\n"
     ]
    }
   ],
   "source": [
    "# to show whether tables exist\n",
    "mycursor = mydb.cursor(buffered=True)\n",
    "sql = \"SHOW TABLES\"\n",
    "\n",
    "mycursor.execute(sql)\n",
    "for x in mycursor:\n",
    "    print(x)"
   ]
  },
  {
   "cell_type": "markdown",
   "metadata": {},
   "source": [
    "# Insert data into tables"
   ]
  },
  {
   "cell_type": "code",
   "execution_count": 16,
   "metadata": {},
   "outputs": [
    {
     "name": "stdout",
     "output_type": "stream",
     "text": [
      "3 was inserted\n"
     ]
    }
   ],
   "source": [
    "# fill the \"users\" table with multiple data: 3 rows\n",
    "mycursor = mydb.cursor(buffered=True)\n",
    "sql = \"INSERT INTO users (id, name, fav) VALUES (%s, %s, %s)\"\n",
    "val = [\n",
    "    (1, 'John', 154),\n",
    "    (2, 'Peter', 154),\n",
    "    (3, 'Amy', 155)\n",
    "]\n",
    "\n",
    "mycursor.executemany(sql, val)\n",
    "mydb.commit()\n",
    "print(mycursor.rowcount, \"was inserted\")"
   ]
  },
  {
   "cell_type": "code",
   "execution_count": 18,
   "metadata": {},
   "outputs": [
    {
     "name": "stdout",
     "output_type": "stream",
     "text": [
      "2 was inserted\n"
     ]
    }
   ],
   "source": [
    "# insert 2 row of data without fav values\n",
    "mycursor = mydb.cursor(buffered=True)\n",
    "sql = \"INSERT INTO users (id, name) VALUES(%s, %s)\"\n",
    "val = [\n",
    "    (4, 'Hannah'),\n",
    "    (5, 'Michael')\n",
    "]\n",
    "\n",
    "mycursor.executemany(sql, val)\n",
    "mydb.commit()\n",
    "print(mycursor.rowcount, \"was inserted\")"
   ]
  },
  {
   "cell_type": "code",
   "execution_count": 4,
   "metadata": {},
   "outputs": [
    {
     "name": "stdout",
     "output_type": "stream",
     "text": [
      "(1, 'John', 154)\n",
      "(2, 'Peter', 154)\n",
      "(3, 'Amy', 155)\n",
      "(4, 'Hannah', None)\n",
      "(5, 'Michael', None)\n"
     ]
    }
   ],
   "source": [
    "# check the data in the table: users\n",
    "mycursor = mydb.cursor(buffered=True)\n",
    "sql = \"SELECT * FROM users\"\n",
    "mycursor.execute(sql)\n",
    "myresult = mycursor.fetchall()\n",
    "for x in myresult:\n",
    "    print(x)"
   ]
  },
  {
   "cell_type": "code",
   "execution_count": 20,
   "metadata": {},
   "outputs": [
    {
     "name": "stdout",
     "output_type": "stream",
     "text": [
      "3 was inserted\n"
     ]
    }
   ],
   "source": [
    "# fill the \"customers\" table with multiple data: 3 rows\n",
    "mycursor = mydb.cursor(buffered=True)\n",
    "sql = \"INSERT INTO products (id, name) VALUES (%s, %s)\"\n",
    "val = [\n",
    "    (154, 'Chocolate Heaven'),\n",
    "    (155, 'Tasty Lemons'),\n",
    "    (156, 'Vanilla Dreams')\n",
    "]\n",
    "\n",
    "mycursor.executemany(sql, val)\n",
    "mydb.commit()\n",
    "print(mycursor.rowcount, \"was inserted\")"
   ]
  },
  {
   "cell_type": "code",
   "execution_count": 5,
   "metadata": {},
   "outputs": [
    {
     "name": "stdout",
     "output_type": "stream",
     "text": [
      "(154, 'Chocolate Heaven')\n",
      "(155, 'Tasty Lemons')\n",
      "(156, 'Vanilla Dreams')\n"
     ]
    }
   ],
   "source": [
    "# check the data in the table: products\n",
    "mycursor = mydb.cursor(buffered=True)\n",
    "sql = \"SELECT * FROM products\"\n",
    "mycursor.execute(sql)\n",
    "myresult = mycursor.fetchall()\n",
    "for x in myresult:\n",
    "    print(x)"
   ]
  },
  {
   "cell_type": "code",
   "execution_count": 11,
   "metadata": {},
   "outputs": [
    {
     "name": "stdout",
     "output_type": "stream",
     "text": [
      "('name', 'favrite')= ('John', 'Chocolate Heaven')\n",
      "('name', 'favrite')= ('Peter', 'Chocolate Heaven')\n",
      "('name', 'favrite')= ('Amy', 'Tasty Lemons')\n"
     ]
    }
   ],
   "source": [
    "# join users & products to see the name of the users favorite product\n",
    "mycursor = mydb.cursor(buffered=True)\n",
    "sql = \"SELECT \\\n",
    "    users.name AS user, \\\n",
    "    products.name AS favorite \\\n",
    "    FROM users \\\n",
    "    INNER JOIN products ON users.fav = products.id\"\n",
    "    \n",
    "mycursor.execute(sql)\n",
    "myresult = mycursor.fetchall()\n",
    "for x in myresult:\n",
    "    print(\"('name', 'favrite')=\", x)"
   ]
  },
  {
   "cell_type": "code",
   "execution_count": 15,
   "metadata": {},
   "outputs": [
    {
     "name": "stdout",
     "output_type": "stream",
     "text": [
      "('name', 'favorite')= ('John', 'Chocolate Heaven')\n",
      "('name', 'favorite')= ('Peter', 'Chocolate Heaven')\n",
      "('name', 'favorite')= ('Amy', 'Tasty Lemons')\n",
      "('name', 'favorite')= ('Hannah', None)\n",
      "('name', 'favorite')= ('Michael', None)\n"
     ]
    }
   ],
   "source": [
    "# LEFT JOIN\n",
    "# return all users though they do not have favorite product\n",
    "sql = \"SELECT \\\n",
    "    users.name AS user, \\\n",
    "    products.name AS favorite \\\n",
    "    FROM users \\\n",
    "    LEFT JOIN products ON users.fav = products.id\"\n",
    "\n",
    "mycursor = mydb.cursor(buffered=True)\n",
    "mycursor.execute(sql)\n",
    "myresult = mycursor.fetchall()\n",
    "for x in myresult:\n",
    "    print(\"('name', 'favorite')=\", x)"
   ]
  },
  {
   "cell_type": "code",
   "execution_count": 18,
   "metadata": {},
   "outputs": [
    {
     "name": "stdout",
     "output_type": "stream",
     "text": [
      "('name', 'favorite')= ('John', 'Chocolate Heaven')\n",
      "('name', 'favorite')= ('Peter', 'Chocolate Heaven')\n",
      "('name', 'favorite')= ('Amy', 'Tasty Lemons')\n",
      "('name', 'favorite')= (None, 'Vanilla Dreams')\n"
     ]
    }
   ],
   "source": [
    "# RIGHT JOIN\n",
    "# return all products\n",
    "sql = \"SELECT \\\n",
    "    users.name AS user, \\\n",
    "    products.name AS favorite \\\n",
    "    FROM users \\\n",
    "    RIGHT JOIN products ON users.fav = products.id\"\n",
    "\n",
    "mycursor = mydb.cursor(buffered=True)\n",
    "mycursor.execute(sql)\n",
    "myresult = mycursor.fetchall()\n",
    "for x in myresult:\n",
    "    print(\"('name', 'favorite')=\", x)"
   ]
  },
  {
   "cell_type": "code",
   "execution_count": null,
   "metadata": {},
   "outputs": [],
   "source": []
  },
  {
   "cell_type": "code",
   "execution_count": null,
   "metadata": {},
   "outputs": [],
   "source": []
  }
 ],
 "metadata": {
  "kernelspec": {
   "display_name": "Python 3",
   "language": "python",
   "name": "python3"
  },
  "language_info": {
   "codemirror_mode": {
    "name": "ipython",
    "version": 3
   },
   "file_extension": ".py",
   "mimetype": "text/x-python",
   "name": "python",
   "nbconvert_exporter": "python",
   "pygments_lexer": "ipython3",
   "version": "3.7.6"
  }
 },
 "nbformat": 4,
 "nbformat_minor": 4
}
