{
 "cells": [
  {
   "cell_type": "code",
   "execution_count": 10,
   "metadata": {},
   "outputs": [],
   "source": [
    "import pandas as pd\n",
    "import numpy as np"
   ]
  },
  {
   "cell_type": "markdown",
   "metadata": {},
   "source": [
    "# Demo data from Cloud Drive"
   ]
  },
  {
   "cell_type": "code",
   "execution_count": 11,
   "metadata": {},
   "outputs": [],
   "source": [
    "# read data\n",
    "viewdeos = pd.read_excel('viewdeos_demo.xlsx', sheet_name='practice')\n",
    "#viewdeos.info()\n",
    "#viewdeos.head(20)\n",
    "#viewdeos.tail(5)"
   ]
  },
  {
   "cell_type": "code",
   "execution_count": 12,
   "metadata": {},
   "outputs": [],
   "source": [
    "# clear duplicate row\n",
    "viewdeos = viewdeos.drop([45, 46, 47])\n",
    "# slicing 'Publisher Channel Name'\n",
    "# replace \".\" into space\n",
    "viewdeos['Publisher Channel Name'] = viewdeos['Publisher Channel Name'].str.replace('.', ' ', regex=False)\n",
    "#viewdeos['Publisher Channel Name'] = viewdeos['Publisher Channel Name'].str.replace('-', '', regex=False)\n",
    "viewdeos['Publisher Channel Name'] = viewdeos['Publisher Channel Name'].str.split().str.get(0)\n",
    "#viewdeos.head(20)"
   ]
  },
  {
   "cell_type": "code",
   "execution_count": 13,
   "metadata": {},
   "outputs": [],
   "source": [
    "# sum up 'Impression' according to Publisher Channel Name\n",
    "impression_viewdeos = viewdeos.groupby(['Publisher Channel Name'])['Impression'].agg('sum')\n",
    "impression_viewdeos = pd.concat([impression_viewdeos], axis=1).reset_index()\n",
    "# convert float to str in order to compare the difference later\n",
    "impression_viewdeos['Impression'] = impression_viewdeos['Impression'].astype(int)\n",
    "impression_viewdeos['Impression'] = impression_viewdeos['Impression'].astype(str)\n",
    "# to change column name\n",
    "impression_viewdeos.rename(columns={'Publisher Channel Name':'Website', 'Impression':'Cloud Impression'}, inplace=True)\n",
    "impression_viewdeos.loc[0,'Website'] = 'Basketballbiji'\n",
    "#impression_viewdeos.info()\n",
    "#impression_viewdeos"
   ]
  },
  {
   "cell_type": "markdown",
   "metadata": {},
   "source": [
    "# Compare demo data from Backyard"
   ]
  },
  {
   "cell_type": "code",
   "execution_count": 14,
   "metadata": {},
   "outputs": [],
   "source": [
    "# read data\n",
    "backyard = pd.read_excel(\"viewdeos_compare.xlsx\")\n",
    "#backyard.info()\n",
    "#backyard.head(20)\n",
    "#backyard.tail(5)"
   ]
  },
  {
   "cell_type": "code",
   "execution_count": 15,
   "metadata": {},
   "outputs": [],
   "source": [
    "# clear total row(without website name)\n",
    "backyard = backyard.drop([1083])\n",
    "# slicing 'Publisher_channel_name'\n",
    "backyard['Publisher_channel_name'] = backyard['Publisher_channel_name'].str.replace(\".\", \" \", regex=False)\n",
    "backyard['Publisher_channel_name'] = backyard['Publisher_channel_name'].str.split().str.get(0)"
   ]
  },
  {
   "cell_type": "code",
   "execution_count": 16,
   "metadata": {},
   "outputs": [],
   "source": [
    "# sum up 'Impression' according to 'Publisher_channel_name'\n",
    "impression_backyard = backyard.groupby(['Publisher_channel_name'])['Impressions'].agg('sum')\n",
    "impression_backyard = pd.concat([impression_backyard], axis=1).reset_index()\n",
    "# convert float to str in order to compare the difference later\n",
    "impression_backyard['Impressions'] = impression_backyard['Impressions'].astype(str)\n",
    "# to change column name\n",
    "impression_backyard.rename(columns={'Publisher_channel_name':'Website', 'Impressions':'Backyard Impression'}, inplace=True)\n",
    "impression_backyard.loc[0,'Website'] = 'Basketballbiji'\n",
    "#impression_backyard.info()\n",
    "#impression_backyard"
   ]
  },
  {
   "cell_type": "markdown",
   "metadata": {},
   "source": [
    "# Find out different website based on total Impression"
   ]
  },
  {
   "cell_type": "code",
   "execution_count": 17,
   "metadata": {},
   "outputs": [],
   "source": [
    "diff = impression_viewdeos[~impression_viewdeos.apply(tuple,1).isin(impression_backyard.apply(tuple,1))]\n",
    "#print(\"data in Viewdeos different from data in Backyard:\")\n",
    "#diff"
   ]
  },
  {
   "cell_type": "code",
   "execution_count": 18,
   "metadata": {},
   "outputs": [],
   "source": [
    "# 雲端vs backyard\n",
    "temp = impression_viewdeos\n",
    "def add_column(row):\n",
    "    mystr = row['Website'].replace(\" \", \"\")\n",
    "    mystr = mystr.lower()\n",
    "    \n",
    "    if [mystr == impression_backyard['Website'].str.lower()]:\n",
    "        return impression_backyard.loc[impression_backyard['Website'].str.lower()==mystr, 'Backyard Impression'].values\n",
    "    \n",
    "temp['Backyard Impression'] = temp.apply(add_column, axis=1)\n",
    "\n",
    "temp\n",
    "\n",
    "# convert ndarray in clomun 'Cloud Impression' to int\n",
    "for i in range(temp['Backyard Impression'].size):\n",
    "    if temp.loc[i, 'Backyard Impression'].size != 0:\n",
    "        temp.loc[i, 'Backyard Impression'] = temp.loc[i, 'Backyard Impression'][0]\n",
    "    else:\n",
    "        temp.loc[i, 'Backyard Impression']=0\n",
    "        \n",
    "temp['Cloud Impression'] = temp['Cloud Impression'].astype(int)        \n",
    "temp['Backyard Impression'] = temp['Backyard Impression'].astype(int)\n",
    "#temp.info()\n",
    "#temp\n",
    "\n",
    "# find out the difference between cloud & Backyard\n",
    "def add_difference(row):\n",
    "    return row['Cloud Impression']-row['Backyard Impression']\n",
    "temp['Cloud-Backyard'] = temp.apply(add_difference, axis=1)\n",
    "\n",
    "# tag the status od the website in Backyard\n",
    "def add_status(row):\n",
    "    if row['Cloud-Backyard'] == 0:\n",
    "        return \"正常\"\n",
    "    elif row['Backyard Impression'] == 0:\n",
    "        return \"無數據\"\n",
    "    else:\n",
    "        return \"異常\"\n",
    "    \n",
    "temp['Backyard Status'] = temp.apply(add_status, axis=1)\n",
    "#temp"
   ]
  }
 ],
 "metadata": {
  "kernelspec": {
   "display_name": "Python 3",
   "language": "python",
   "name": "python3"
  },
  "language_info": {
   "codemirror_mode": {
    "name": "ipython",
    "version": 3
   },
   "file_extension": ".py",
   "mimetype": "text/x-python",
   "name": "python",
   "nbconvert_exporter": "python",
   "pygments_lexer": "ipython3",
   "version": "3.7.6"
  }
 },
 "nbformat": 4,
 "nbformat_minor": 4
}
