{
 "cells": [
  {
   "cell_type": "markdown",
   "metadata": {},
   "source": [
    "# Import library"
   ]
  },
  {
   "cell_type": "code",
   "execution_count": 2,
   "metadata": {},
   "outputs": [],
   "source": [
    "import pandas as pd\n",
    "import numpy as np"
   ]
  },
  {
   "cell_type": "markdown",
   "metadata": {},
   "source": [
    "# Read the data from file"
   ]
  },
  {
   "cell_type": "code",
   "execution_count": 3,
   "metadata": {},
   "outputs": [],
   "source": [
    "excel_file = \"flurry_july_revenue.csv\"\n",
    "flurry = pd.read_csv(excel_file, index_col=False)\n",
    "#flurry.info()\n",
    "# show th first 10 rows of the dataset\n",
    "#flurry.head(10)"
   ]
  },
  {
   "cell_type": "markdown",
   "metadata": {},
   "source": [
    "# Pre-processing\n",
    "1. Drop the columns are not required\n",
    "2. Filter the abnormal figure & correct"
   ]
  },
  {
   "cell_type": "code",
   "execution_count": 4,
   "metadata": {},
   "outputs": [],
   "source": [
    "# remove any columns from dataframe, where all of the elements of that column are missing.\n",
    "flurry = flurry.dropna(how='all', axis='columns')\n",
    "# drop the column 'Id' & 'Date'\n",
    "flurry = flurry.drop(columns=['Id', 'Date'])\n",
    "\n",
    "# filter the data\n",
    "filter1 = flurry['Name']=='Specific_Website_Name'\n",
    "filter2 = flurry['Ads Requested']<0\n",
    "flurry[(filter1&filter2)]\n",
    "flurry[(filter2)]\n",
    "\n",
    "# correct the negtive figure into positive\n",
    "flurry['Ads Requested'] = np.where(flurry['Ads Requested']<0, flurry['Ads Requested']*(-1), flurry['Ads Requested'])\n",
    "#flurry"
   ]
  },
  {
   "cell_type": "markdown",
   "metadata": {},
   "source": [
    "# Get all website name, not duplicate"
   ]
  },
  {
   "cell_type": "code",
   "execution_count": 5,
   "metadata": {},
   "outputs": [],
   "source": [
    "website = pd.unique(flurry['Name'])\n",
    "website = pd.DataFrame(website, columns=['website'])\n",
    "website = website.sort_values(by=['website'])\n",
    "website = website.reset_index(drop=True)\n",
    "#website"
   ]
  },
  {
   "cell_type": "markdown",
   "metadata": {},
   "source": [
    "# Sum up the figure for specific columns"
   ]
  },
  {
   "cell_type": "code",
   "execution_count": 6,
   "metadata": {},
   "outputs": [],
   "source": [
    "# convert currency to float in order to sum up\n",
    "# str[1:]: ignore the first alphabet of the string\n",
    "flurry['Revenue'] = flurry['Revenue'].str[1:].astype(float)\n",
    "\n",
    "# sum up \"Revenue\", \"Impression\", \"Clicks\", \"Ads Requested\", \"Ads Received\" according to websites' Name\n",
    "revenue = flurry.groupby(['Name'])['Revenue'].agg('sum')\n",
    "impression = flurry.groupby(['Name'])['Impressions'].agg('sum')\n",
    "clicks = flurry.groupby(['Name'])['Clicks'].agg('sum')\n",
    "ads_request = flurry.groupby(['Name'])['Ads Requested'].agg('sum')\n",
    "ads_receive = flurry.groupby(['Name'])['Ads Received'].agg('sum')\n",
    "\n",
    "# combine three columns into dataframe \"summary\"\n",
    "summary = pd.concat([revenue, impression, clicks, ads_request, ads_receive], axis=1).reset_index()"
   ]
  },
  {
   "cell_type": "markdown",
   "metadata": {},
   "source": [
    "# Calculate remain columns"
   ]
  },
  {
   "cell_type": "code",
   "execution_count": 7,
   "metadata": {},
   "outputs": [],
   "source": [
    "# eCPM(=CPM)=(Revenue*1000)/Impression\n",
    "ecpm = np.where(impression<=0, 0.0, (revenue*1000)/impression)\n",
    "ecpm = pd.DataFrame(ecpm)\n",
    "summary.insert(3, 'eCPM', ecpm)\n",
    "\n",
    "# fillrate=Ads received/Ads requested\n",
    "fillrate = np.where(ads_request<=0, 0.0, ads_receive/ads_request)\n",
    "fillrate = pd.DataFrame(fillrate)\n",
    "summary.insert(4, 'Fill Rate', fillrate)\n",
    "\n",
    "# Impression Fill Rate: Impressions/Ads Requested\n",
    "impression_fillrate = np.where(ads_request<=0, 0.0, impression/ads_request)\n",
    "impression_fillrate = pd.DataFrame(impression_fillrate)\n",
    "summary.insert(8, 'Impression Fill Rate', impression_fillrate)\n",
    "\n",
    "# CTR: Click/Impression\n",
    "ctr = np.where(impression==0, 0.0, clicks/impression)\n",
    "ctr = pd.DataFrame(ctr)\n",
    "summary.insert(9, 'CTR', ctr)"
   ]
  },
  {
   "cell_type": "markdown",
   "metadata": {},
   "source": [
    "# Format the summary data"
   ]
  },
  {
   "cell_type": "code",
   "execution_count": 8,
   "metadata": {},
   "outputs": [],
   "source": [
    "# Revenue\n",
    "summary['Revenue'] = round(summary['Revenue'], 2)\n",
    "# convert to \"Revenue\" to string and +\"$\"\n",
    "summary['Revenue'] = np.where(summary['Revenue']<0, '-$'+summary['Revenue'].astype(str).str[1:], '$'+summary['Revenue'].astype(str))\n",
    "\n",
    "# eCPM\n",
    "summary['eCPM'] = round(summary['eCPM'], 2)\n",
    "summary['eCPM'] = np.where(summary['eCPM']<0, '-$'+summary['eCPM'].astype(str).str[1:], '$'+summary['eCPM'].astype(str))\n",
    "\n",
    "# convert \"Fill Rate\", \"Impression Fill Rate\", \"CTR\" into percentage\n",
    "# {0:.2f}: {[argument_index_or_keyword]:[width][.precision][type]}\n",
    "summary['Fill Rate'] = pd.Series([\"{0:.2f}%\".format(val*100) for val in summary['Fill Rate']], index=summary.index)\n",
    "summary['Impression Fill Rate'] = pd.Series([\"{0:.2f}%\".format(val*100) for val in summary['Impression Fill Rate']], index=summary.index)\n",
    "summary['CTR'] = pd.Series([\"{0:.2f}%\".format(val*100) for val in summary['CTR']], index=summary.index)\n",
    "\n",
    "#summary"
   ]
  },
  {
   "cell_type": "markdown",
   "metadata": {},
   "source": [
    "# Output an excel file"
   ]
  },
  {
   "cell_type": "code",
   "execution_count": 9,
   "metadata": {},
   "outputs": [],
   "source": [
    "# Create a Pandas Excel writer using xlsxwriter as engine\n",
    "writer = pd.ExcelWriter('flurry_july_revenue_monthly.xlsx', engine='xlsxwriter')\n",
    "\n",
    "# Convert the dataframe to an XlsxWriter Excel Object\n",
    "summary.to_excel(writer, index=False, sheet_name='report')\n",
    "\n",
    "# Get the workbook & worksheet object from xlsxwriter\n",
    "workbook = writer.book\n",
    "worksheet = writer.sheets['report']\n",
    "\n",
    "# Create & Add header format\n",
    "header_bold = workbook.add_format({'bold':True})\n",
    "\n",
    "# Set the format of the title row\n",
    "worksheet.set_row(0, None, header_bold)\n",
    "\n",
    "# Close the Pandas Excel writer and output the Excel file.\n",
    "writer.save()"
   ]
  }
 ],
 "metadata": {
  "kernelspec": {
   "display_name": "Python 3",
   "language": "python",
   "name": "python3"
  },
  "language_info": {
   "codemirror_mode": {
    "name": "ipython",
    "version": 3
   },
   "file_extension": ".py",
   "mimetype": "text/x-python",
   "name": "python",
   "nbconvert_exporter": "python",
   "pygments_lexer": "ipython3",
   "version": "3.7.6"
  }
 },
 "nbformat": 4,
 "nbformat_minor": 4
}
