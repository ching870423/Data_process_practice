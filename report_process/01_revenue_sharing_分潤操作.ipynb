{
 "cells": [
  {
   "cell_type": "markdown",
   "metadata": {},
   "source": [
    "# Import library"
   ]
  },
  {
   "cell_type": "code",
   "execution_count": 5,
   "metadata": {},
   "outputs": [
    {
     "name": "stdout",
     "output_type": "stream",
     "text": [
      "1.1.1\n"
     ]
    }
   ],
   "source": [
    "import pandas as pd\n",
    "print(pd.__version__)"
   ]
  },
  {
   "cell_type": "markdown",
   "metadata": {},
   "source": [
    "# Read data from excel"
   ]
  },
  {
   "cell_type": "code",
   "execution_count": 6,
   "metadata": {},
   "outputs": [],
   "source": [
    "excel_file = \"report_name.xlsx\"\n",
    "adx = pd.read_excel(excel_file)\n",
    "# show the first 10 rows from dataset\n",
    "#adx.head(10)"
   ]
  },
  {
   "cell_type": "markdown",
   "metadata": {},
   "source": [
    "# Apply formulas on the data"
   ]
  },
  {
   "cell_type": "code",
   "execution_count": 7,
   "metadata": {},
   "outputs": [],
   "source": [
    "# 分潤公式: ratio can be decided on your own\n",
    "adx[\"column_1\"] = (adx[\"column_1\"]*ratio\n",
    "# CPM formula\n",
    "adx[\"column_2\"] = (adx[\"column_1\"]*1000)/adx[\"column_3\"]\n",
    "# to check the col\n",
    "#adx[\"預估收益 (US$)\"].head(10)\n",
    "#adx[\"廣告有效千次曝光出價 (US$)\"].head(10)"
   ]
  },
  {
   "cell_type": "markdown",
   "metadata": {},
   "source": [
    "# Output an excel file"
   ]
  },
  {
   "cell_type": "code",
   "execution_count": 4,
   "metadata": {},
   "outputs": [],
   "source": [
    "# Create a Pandas Excel writer using XlsxWriter as the engine\n",
    "writer = pd.ExcelWriter('output_name.xlsx', engine='xlsxwriter')\n",
    "\n",
    "# Convert the dataframe to an XlsxWriter Excel object.\n",
    "adx.to_excel(writer, index=False, sheet_name='report')\n",
    "\n",
    "# Get the xlsxwriter workbook and worksheet objects.\n",
    "workbook = writer.book\n",
    "worksheet = writer.sheets['report']\n",
    "\n",
    "# Create & Add header format\n",
    "header_bold = workbook.add_format({'bold': True})\n",
    "\n",
    "# Set the format of the title row \n",
    "# .set_row(row, height, format, options)\n",
    "worksheet.set_row(0, None, header_bold)\n",
    "\n",
    "# Close the Pandas Excel writer and output the Excel file.\n",
    "writer.save()"
   ]
  }
 ],
 "metadata": {
  "kernelspec": {
   "display_name": "Python 3",
   "language": "python",
   "name": "python3"
  },
  "language_info": {
   "codemirror_mode": {
    "name": "ipython",
    "version": 3
   },
   "file_extension": ".py",
   "mimetype": "text/x-python",
   "name": "python",
   "nbconvert_exporter": "python",
   "pygments_lexer": "ipython3",
   "version": "3.7.6"
  }
 },
 "nbformat": 4,
 "nbformat_minor": 4
}
