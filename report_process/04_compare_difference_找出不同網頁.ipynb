{
 "cells": [
  {
   "cell_type": "code",
   "execution_count": 3,
   "metadata": {},
   "outputs": [],
   "source": [
    "# import library\n",
    "import pandas as pd\n",
    "\n",
    "backyard = pd.read_csv('file_1.csv')\n",
    "viewdeos = pd.read_csv('file_2.csv')\n",
    "\n",
    "#print(backyard.shape)\n",
    "\n",
    "diff = viewdeos[~viewdeos['column_1'].isin(backyard['column_1'])]\n",
    "#diff\n",
    "#print(diff)"
   ]
  },
  {
   "cell_type": "code",
   "execution_count": 4,
   "metadata": {},
   "outputs": [],
   "source": [
    "writer = pd.ExcelWriter('viewdeos_website_backyard_without.xlsx', engine='xlsxwriter')\n",
    "diff.to_excel(writer, index=False, sheet_name='website')\n",
    "workbook = writer.book\n",
    "worksheet = writer.sheets['website']\n",
    "header_bold = workbook.add_format({'bold': True})\n",
    "worksheet.set_row(0, None, header_bold)\n",
    "writer.save()"
   ]
  }
 ],
 "metadata": {
  "kernelspec": {
   "display_name": "Python 3",
   "language": "python",
   "name": "python3"
  },
  "language_info": {
   "codemirror_mode": {
    "name": "ipython",
    "version": 3
   },
   "file_extension": ".py",
   "mimetype": "text/x-python",
   "name": "python",
   "nbconvert_exporter": "python",
   "pygments_lexer": "ipython3",
   "version": "3.7.6"
  }
 },
 "nbformat": 4,
 "nbformat_minor": 4
}
