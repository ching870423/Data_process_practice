{
 "cells": [
  {
   "cell_type": "code",
   "execution_count": 1,
   "metadata": {},
   "outputs": [
    {
     "name": "stdout",
     "output_type": "stream",
     "text": [
      "(28, 2)\n",
      "(16, 2)\n"
     ]
    }
   ],
   "source": [
    "# import library\n",
    "import pandas as pd\n",
    "\n",
    "backyard = pd.read_csv('backyard_viewdeos.csv')\n",
    "viewdeos = pd.read_csv('viewdeos_viewdeos.csv')\n",
    "\n",
    "print(viewdeos.shape)\n",
    "print(backyard.shape)\n",
    "\n",
    "diff = viewdeos[~viewdeos['Account ID'].isin(backyard['Account ID'])]\n",
    "#diff\n",
    "#print(diff)"
   ]
  },
  {
   "cell_type": "code",
   "execution_count": 2,
   "metadata": {},
   "outputs": [],
   "source": [
    "writer = pd.ExcelWriter('viewdeos_website_backyard_without.xlsx', engine='xlsxwriter')\n",
    "diff.to_excel(writer, index=False, sheet_name='website')\n",
    "workbook = writer.book\n",
    "worksheet = writer.sheets['website']\n",
    "header_bold = workbook.add_format({'bold': True})\n",
    "worksheet.set_row(0, None, header_bold)\n",
    "writer.save()"
   ]
  }
 ],
 "metadata": {
  "kernelspec": {
   "display_name": "Python 3",
   "language": "python",
   "name": "python3"
  },
  "language_info": {
   "codemirror_mode": {
    "name": "ipython",
    "version": 3
   },
   "file_extension": ".py",
   "mimetype": "text/x-python",
   "name": "python",
   "nbconvert_exporter": "python",
   "pygments_lexer": "ipython3",
   "version": "3.7.6"
  }
 },
 "nbformat": 4,
 "nbformat_minor": 4
}
