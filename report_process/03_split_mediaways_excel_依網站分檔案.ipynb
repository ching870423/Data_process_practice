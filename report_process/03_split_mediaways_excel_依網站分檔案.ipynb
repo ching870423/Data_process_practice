{
 "cells": [
  {
   "cell_type": "markdown",
   "metadata": {},
   "source": [
    "# Import library"
   ]
  },
  {
   "cell_type": "code",
   "execution_count": 5,
   "metadata": {},
   "outputs": [],
   "source": [
    "import pandas as pd\n",
    "import numpy as np"
   ]
  },
  {
   "cell_type": "markdown",
   "metadata": {},
   "source": [
    "# Read data"
   ]
  },
  {
   "cell_type": "code",
   "execution_count": 6,
   "metadata": {},
   "outputs": [],
   "source": [
    "excel_file = \"mediaways_example.xlsx\"\n",
    "mediaways = pd.read_excel(excel_file)\n",
    "#mediaways.info()\n",
    "#mediaways.head(5)"
   ]
  },
  {
   "cell_type": "markdown",
   "metadata": {},
   "source": [
    "# Get all website, no duplicate"
   ]
  },
  {
   "cell_type": "code",
   "execution_count": 7,
   "metadata": {},
   "outputs": [],
   "source": [
    "media = pd.unique(mediaways['Site'])\n",
    "media = media[~ (pd.isna(media))]\n",
    "#print(type(media))\n",
    "#media"
   ]
  },
  {
   "cell_type": "markdown",
   "metadata": {},
   "source": [
    "# Create new file according to Media name"
   ]
  },
  {
   "cell_type": "code",
   "execution_count": 8,
   "metadata": {},
   "outputs": [],
   "source": [
    "for i in range(len(media)):\n",
    "    # subset the GENIEE dataframe according to \"Media Name\"\n",
    "    temp = mediaways[mediaways['Site'].isin([media[i]])]\n",
    "    \n",
    "    # process the file name\n",
    "    name = media[i]\n",
    "    name = name.replace(\".com\", \"\")\n",
    "    name = name.replace(\".com.tw\", \"\")\n",
    "    name = name.replace(\".co\", \"\")\n",
    "    name = name.replace(\".net\", \"\")\n",
    "    name = name.replace(\".tw\", \"\")\n",
    "    name = name.replace(\" \", \"\")\n",
    "    \n",
    "    # get year & month: date is String\n",
    "    date = str(mediaways.iat[0,0])\n",
    "    date = date.replace(\"-\", \"\")\n",
    "    # Get the characters from position 0 to position 6 (not included), start from 0\n",
    "    date = date[0:6]\n",
    "    \n",
    "    # create a new excel file\n",
    "    file_name = \"mediaways_\"+name+\"_\"+date+\".xlsx\"\n",
    "    writer = pd.ExcelWriter(file_name, engine='xlsxwriter')\n",
    "    temp.to_excel(writer, index=False, sheet_name='report')\n",
    "    workbook = writer.book\n",
    "    worksheet = writer.sheets['report']\n",
    "    header_bold = workbook.add_format({'bold': True})\n",
    "    worksheet.set_row(0, None, header_bold)\n",
    "    writer.save()"
   ]
  }
 ],
 "metadata": {
  "kernelspec": {
   "display_name": "Python 3",
   "language": "python",
   "name": "python3"
  },
  "language_info": {
   "codemirror_mode": {
    "name": "ipython",
    "version": 3
   },
   "file_extension": ".py",
   "mimetype": "text/x-python",
   "name": "python",
   "nbconvert_exporter": "python",
   "pygments_lexer": "ipython3",
   "version": "3.7.6"
  }
 },
 "nbformat": 4,
 "nbformat_minor": 4
}
